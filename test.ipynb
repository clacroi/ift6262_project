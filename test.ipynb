{
 "cells": [
  {
   "cell_type": "code",
   "execution_count": 74,
   "metadata": {
    "collapsed": false
   },
   "outputs": [
    {
     "ename": "ImportError",
     "evalue": "cannot import name 'merge'",
     "output_type": "error",
     "traceback": [
      "\u001b[0;31m---------------------------------------------------------------------------\u001b[0m",
      "\u001b[0;31mImportError\u001b[0m                               Traceback (most recent call last)",
      "\u001b[0;32m<ipython-input-74-c9c32c6e0193>\u001b[0m in \u001b[0;36m<module>\u001b[0;34m()\u001b[0m\n\u001b[1;32m      3\u001b[0m \u001b[0;34m\u001b[0m\u001b[0m\n\u001b[1;32m      4\u001b[0m \u001b[0;32mimport\u001b[0m \u001b[0mkeras\u001b[0m\u001b[0;34m.\u001b[0m\u001b[0mmodels\u001b[0m \u001b[0;32mas\u001b[0m \u001b[0mmodels\u001b[0m\u001b[0;34m\u001b[0m\u001b[0m\n\u001b[0;32m----> 5\u001b[0;31m \u001b[0;32mfrom\u001b[0m \u001b[0mkeras\u001b[0m\u001b[0;34m.\u001b[0m\u001b[0mlayers\u001b[0m\u001b[0;34m.\u001b[0m\u001b[0mcore\u001b[0m \u001b[0;32mimport\u001b[0m \u001b[0mLayer\u001b[0m\u001b[0;34m,\u001b[0m \u001b[0mDense\u001b[0m\u001b[0;34m,\u001b[0m \u001b[0mDropout\u001b[0m\u001b[0;34m,\u001b[0m \u001b[0mActivation\u001b[0m\u001b[0;34m,\u001b[0m \u001b[0mFlatten\u001b[0m\u001b[0;34m,\u001b[0m \u001b[0mReshape\u001b[0m\u001b[0;34m,\u001b[0m \u001b[0mPermute\u001b[0m\u001b[0;34m,\u001b[0m \u001b[0mmerge\u001b[0m\u001b[0;34m,\u001b[0m \u001b[0mRepeatVector\u001b[0m\u001b[0;34m\u001b[0m\u001b[0m\n\u001b[0m\u001b[1;32m      6\u001b[0m \u001b[0;32mfrom\u001b[0m \u001b[0mkeras\u001b[0m\u001b[0;34m.\u001b[0m\u001b[0mlayers\u001b[0m\u001b[0;34m.\u001b[0m\u001b[0mconvolutional\u001b[0m \u001b[0;32mimport\u001b[0m \u001b[0mConvolution2D\u001b[0m\u001b[0;34m,\u001b[0m \u001b[0mMaxPooling2D\u001b[0m\u001b[0;34m,\u001b[0m \u001b[0mUpSampling2D\u001b[0m\u001b[0;34m,\u001b[0m \u001b[0mZeroPadding2D\u001b[0m\u001b[0;34m,\u001b[0m \u001b[0mDeconvolution2D\u001b[0m\u001b[0;34m\u001b[0m\u001b[0m\n\u001b[1;32m      7\u001b[0m \u001b[0;32mfrom\u001b[0m \u001b[0mkeras\u001b[0m\u001b[0;34m.\u001b[0m\u001b[0mlayers\u001b[0m\u001b[0;34m.\u001b[0m\u001b[0mnormalization\u001b[0m \u001b[0;32mimport\u001b[0m \u001b[0mBatchNormalization\u001b[0m\u001b[0;34m\u001b[0m\u001b[0m\n",
      "\u001b[0;31mImportError\u001b[0m: cannot import name 'merge'"
     ]
    }
   ],
   "source": [
    "import numpy as np\n",
    "import matplotlib.image as mpimg\n",
    "\n",
    "import keras.models as models\n",
    "from keras.layers.core import Layer, Dense, Dropout, Activation, Flatten, Reshape, Permute, merge, RepeatVector\n",
    "from keras.layers.convolutional import Convolution2D, MaxPooling2D, UpSampling2D, ZeroPadding2D, Deconvolution2D\n",
    "from keras.layers.normalization import BatchNormalization\n",
    "\n",
    "from keras import backend as K"
   ]
  },
  {
   "cell_type": "markdown",
   "metadata": {},
   "source": [
    "## Models v20"
   ]
  },
  {
   "cell_type": "code",
   "execution_count": 56,
   "metadata": {
    "collapsed": false
   },
   "outputs": [
    {
     "data": {
      "text/plain": [
       "array([[-88.33431244, -88.33431244, -88.33431244, ..., -88.33431244,\n",
       "        -88.33431244, -88.33431244],\n",
       "       [-88.33431244, -88.33431244, -88.33431244, ..., -88.33431244,\n",
       "        -88.33431244, -88.33431244],\n",
       "       [-88.33431244, -88.33431244, -88.33431244, ..., -88.33431244,\n",
       "        -88.33431244, -88.33431244],\n",
       "       ..., \n",
       "       [-88.33431244, -88.33431244, -88.33431244, ..., -88.33431244,\n",
       "        -88.33431244, -88.33431244],\n",
       "       [-88.33431244, -88.33431244, -88.33431244, ..., -88.33431244,\n",
       "        -88.33431244, -88.33431244],\n",
       "       [-88.33431244, -88.33431244, -88.33431244, ..., -88.33431244,\n",
       "        -88.33431244, -88.33431244]], dtype=float32)"
      ]
     },
     "execution_count": 56,
     "metadata": {},
     "output_type": "execute_result"
    }
   ],
   "source": [
    "# Construct test layer for text processing\n",
    "text_branch = models.Sequential()\n",
    "text_branch.add(Dense(100, input_dim=100))\n",
    "text_branch.add(RepeatVector(4096))\n",
    "text_branch.add(Permute((2, 1), input_shape=(4096, 100)))\n",
    "text_branch.add(Reshape((100, 64, 64), input_shape=(100, 4096)))\n",
    "\n",
    "# Test output of layer\n",
    "get_layer_output = K.function([text_branch.layers[0].input],\n",
    "                                  [text_branch.layers[3].output])\n",
    "X = np.zeros((1, 100))\n",
    "X[0] = np.array(range(100))\n",
    "layer_output = get_layer_output([X])\n",
    "layer_output[0][0][3]"
   ]
  },
  {
   "cell_type": "code",
   "execution_count": 94,
   "metadata": {
    "collapsed": false
   },
   "outputs": [],
   "source": [
    "# Construct layer for text processing\n",
    "text_branch = models.Sequential()\n",
    "text_branch.add(Dense(512, input_dim=2048))\n",
    "text_branch.add(RepeatVector(4096))\n",
    "text_branch.add(Permute((2, 1), input_shape=(4096, 512)))\n",
    "text_branch.add(Reshape((512, 64, 64), input_shape=(512, 4096)))\n",
    "text_branch.add(BatchNormalization())\n",
    "text_branch.add(Activation('relu'))\n",
    "text_branch.add(Permute((2, 3, 1), input_shape=(512, 64, 64))) # permute tensors for concatenating\n",
    "\n",
    "# Construct input layer for images\n",
    "image_branch = models.Sequential()\n",
    "image_branch.add(Permute((2, 3, 1), input_shape=(3, 64, 64))) # permute tensors for concatenating\n",
    "\n",
    "# Merge inputs branches\n",
    "merged = models.Sequential()\n",
    "merged.add(Merge([image_branch, text_branch], mode='concat'))\n",
    "merged.add(Permute((3, 1, 2), input_shape=(64, 64, 515)))\n",
    "\n",
    "# Construct encoder\n",
    "encoder = models.Sequential()\n",
    "encoder.add(merged)\n",
    "\n",
    "encoder.add(\n",
    "    Convolution2D(32, 5, 5, border_mode='same', input_shape=(3, 64, 64), dim_ordering='th'))\n",
    "encoder.add(BatchNormalization(mode=0, axis=1))\n",
    "encoder.add(Activation('relu'))\n",
    "encoder.add(MaxPooling2D((2, 2), border_mode='same', dim_ordering='th'))\n",
    "\n",
    "encoder.add(\n",
    "        Convolution2D(32, 4, 4, border_mode='same', input_shape=(64, 32, 32), dim_ordering='th'))\n",
    "encoder.add(BatchNormalization(mode=0, axis=1))\n",
    "encoder.add(Activation('relu'))\n",
    "encoder.add(MaxPooling2D((2, 2), border_mode='same', dim_ordering='th'))\n",
    "\n",
    "encoder.add(\n",
    "    Convolution2D(64, 3, 3, border_mode='same', input_shape=(32, 16, 16), dim_ordering='th'))\n",
    "encoder.add(BatchNormalization(mode=0, axis=1))\n",
    "encoder.add(Activation('relu'))\n",
    "encoder.add(MaxPooling2D((2, 2), border_mode='same', dim_ordering='th'))\n",
    "    # Output : (16, 8, 8)\n",
    "\n",
    "encoder.add(Flatten())\n",
    "encoder.add(Dense(512))\n",
    "\n",
    "# Construct decoder\n",
    "decoder = models.Sequential()\n",
    "decoder.add(encoder)\n",
    "decoder.add(Dense(4096))\n",
    "decoder.add(Reshape((64, 8, 8)))\n",
    "\n",
    "decoder.add(\n",
    "    Convolution2D(64, 3, 3, activation='relu', border_mode='same', input_shape=(16, 8, 8), dim_ordering='th'))\n",
    "decoder.add(UpSampling2D((2, 2), dim_ordering='th'))\n",
    "decoder.add(\n",
    "    Convolution2D(32, 4, 4, activation='relu', border_mode='same', input_shape=(32, 16, 16), dim_ordering='th'))\n",
    "decoder.add(UpSampling2D((2, 2), dim_ordering='th'))\n",
    "decoder.add(\n",
    "    Convolution2D(3, 5, 5, activation='sigmoid', border_mode='same', input_shape=(3, 32, 32), dim_ordering='th'))"
   ]
  },
  {
   "cell_type": "code",
   "execution_count": 65,
   "metadata": {
    "collapsed": false
   },
   "outputs": [],
   "source": [
    "def generate_samples_v20(samples_per_epoch, batch_size, path, fn_list, seq_embeddings):\n",
    "\n",
    "    while 1:\n",
    "        for i in range(0, samples_per_epoch, batch_size):\n",
    "            batch_embeddings = []\n",
    "            batch_images = []\n",
    "            for fn in fn_list[i:i + batch_size]:\n",
    "                batch_embeddings.append(seq_embeddings[fn.split('.')[0]])\n",
    "                im = mpimg.imread(path + fn)\n",
    "                batch_images.append(im.transpose(2, 0, 1))\n",
    "\n",
    "            batch_XI = np.array(batch_images) / 255.0\n",
    "            batch_XE = np.array(batch_embeddings)\n",
    "            batch_Y = batch_X[:,:,16:48,16:48].copy()\n",
    "            batch_XI[:,:,16:48,16:48] = 0.0\n",
    "\n",
    "            yield ([batch_XI, batch_XE], batch_Y)"
   ]
  },
  {
   "cell_type": "code",
   "execution_count": null,
   "metadata": {
    "collapsed": true
   },
   "outputs": [],
   "source": []
  }
 ],
 "metadata": {
  "kernelspec": {
   "display_name": "Python 3",
   "language": "python",
   "name": "python3"
  },
  "language_info": {
   "codemirror_mode": {
    "name": "ipython",
    "version": 3
   },
   "file_extension": ".py",
   "mimetype": "text/x-python",
   "name": "python",
   "nbconvert_exporter": "python",
   "pygments_lexer": "ipython3",
   "version": "3.6.0"
  }
 },
 "nbformat": 4,
 "nbformat_minor": 2
}
