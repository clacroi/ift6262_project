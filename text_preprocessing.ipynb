{
 "cells": [
  {
   "cell_type": "code",
   "execution_count": 28,
   "metadata": {
    "collapsed": true
   },
   "outputs": [],
   "source": [
    "import numpy as np\n",
    "from os import listdir\n",
    "import matplotlib.pyplot as plt\n",
    "import matplotlib.image as mpimg\n",
    "import pickle\n",
    "from sys import getsizeof"
   ]
  },
  {
   "cell_type": "code",
   "execution_count": 21,
   "metadata": {
    "collapsed": false
   },
   "outputs": [],
   "source": [
    "with open(\"../Data/inpainting/worddict.pkl\", 'rb') as input:\n",
    "    worddict = pickle.load(input, encoding='latin1')\n",
    "    \n",
    "with open(\"./Data/train_images_fn.pkl\", 'rb') as input:\n",
    "    train_fn = pickle.load(input)\n",
    "    \n",
    "with open(\"../Data/inpainting/dict_key_imgID_value_caps_train_and_valid.pkl\", 'rb') as input:\n",
    "    captions = pickle.load(input, encoding='latin1')\n",
    "\n",
    "captions['COCO_val2014_000000162113']\n",
    "print(getsizeof(captions))"
   ]
  },
  {
   "cell_type": "code",
   "execution_count": 62,
   "metadata": {
    "collapsed": false
   },
   "outputs": [],
   "source": [
    "from sklearn.feature_extraction.text import CountVectorizer, TfidfTransformer, TfidfVectorizer\n",
    "\n",
    "# Construct corpus from images captions\n",
    "n = 1000\n",
    "\n",
    "tr_corpus = []\n",
    "te_corpus = []\n",
    "\n",
    "for k in range(n):\n",
    "    im_name = train_fn[k].split(\".\")[0]\n",
    "    im_captions = captions[im_name]\n",
    "    im_corpus = \" \".join(im_captions)\n",
    "    tr_corpus.append(im_corpus)\n",
    "\n",
    "    im_name = train_fn[k + n].split(\".\")[0]\n",
    "    im_captions = captions[im_name]\n",
    "    im_corpus = \" \".join(im_captions)\n",
    "    te_corpus.append(im_corpus)\n",
    "    \n",
    "# Construct counts vectors for images corpus\n",
    "vectorizer = CountVectorizer(min_df=1)\n",
    "X_tr = vectorizer.fit_transform(tr_corpus)\n",
    "X_te = vectorizer.transform(te_corpus).toarray()\n",
    "\n",
    "# Transform counters by tfidf transformation\n",
    "transformer = TfidfTransformer(smooth_idf=True)\n",
    "tfidf = transformer.fit_transform(vectorizer.transform(te_corpus))\n",
    "\n",
    "# Construct tfidf vectors for image captions\n",
    "vectorizer = TfidfVectorizer(max_df=0.5, min_df = 10e-4, smooth_idf=True)\n",
    "X = vectorizer.fit_transform(tr_corpus + te_corpus)\n",
    "X1 = vectorizer.transform(te_corpus).toarray()"
   ]
  },
  {
   "cell_type": "code",
   "execution_count": 66,
   "metadata": {
    "collapsed": false
   },
   "outputs": [
    {
     "name": "stdout",
     "output_type": "stream",
     "text": [
      "0.965037716745\n"
     ]
    }
   ],
   "source": [
    "# Transform results tfidf matrix by SVD transformation\n",
    "from sklearn.decomposition import TruncatedSVD\n",
    "\n",
    "svd = TruncatedSVD(n_components=1000, n_iter=7, random_state=42)\n",
    "svd.fit(X)\n",
    "print(svd.explained_variance_ratio_.sum())"
   ]
  },
  {
   "cell_type": "code",
   "execution_count": 68,
   "metadata": {
    "collapsed": true
   },
   "outputs": [],
   "source": [
    "def make_seq_embeddings(train_fn, val_fn, captions_dict, tfidf_args, svd_args):\n",
    "    \n",
    "    tr_corpus = []\n",
    "    for fn in train_fn:\n",
    "        im_captions = captions[train_fn[k].split(\".\")[0]]\n",
    "        tr_corpus.append(\" \".join(im_captions))\n",
    "\n",
    "    val_corpus = []\n",
    "    for fn in val_fn:\n",
    "        im_captions = captions[val_fn[k].split(\".\")[0]]\n",
    "        val_corpus.append(\" \".join(im_captions))\n",
    "    \n",
    "    # Construct tfidf vectors for train and val captions\n",
    "    vectorizer = TfidfVectorizer(max_df=0.5, min_df = 10e-5, smooth_idf=True)\n",
    "    vectorizer.fit(tr_corpus + te_corpus)\n",
    "    tr_tfidf = vectorizer.transform(tr_corpus)\n",
    "    val_tfidf = vectorizer.transform(val_corpus)\n",
    "    \n",
    "    # Fit SVD transformation on train captions and\n",
    "    # predict vectors for train and val captions\n",
    "    svd = TruncatedSVD(n_components=2048, n_iter=7, random_state=42)\n",
    "    svd.fit(tr_tfidf)\n",
    "    tr_embeddings = svd.transform(tr_tfidf)\n",
    "    val_embeddings = svd.transform(val_tfidf)\n",
    "    \n",
    "    # Construct dicts with embeddings\n",
    "    tr_embeddings_dict = {}\n",
    "    val_embeddings_dict = {}\n",
    "    \n",
    "    for k in range(len(train_fn)):\n",
    "        tr_embeddings_dict[train_fn.split(\".\")[0]] = tr_embeddings[k]\n",
    "    \n",
    "    for k in range(len(val_fn)):\n",
    "        val_embeddings_dict[val_fn.split(\".\")[0]] = val_embeddings[k]\n",
    "        \n",
    "    return tr_embeddings, val_embeddings"
   ]
  },
  {
   "cell_type": "code",
   "execution_count": null,
   "metadata": {
    "collapsed": true
   },
   "outputs": [],
   "source": []
  }
 ],
 "metadata": {
  "kernelspec": {
   "display_name": "Python 3",
   "language": "python",
   "name": "python3"
  },
  "language_info": {
   "codemirror_mode": {
    "name": "ipython",
    "version": 3
   },
   "file_extension": ".py",
   "mimetype": "text/x-python",
   "name": "python",
   "nbconvert_exporter": "python",
   "pygments_lexer": "ipython3",
   "version": "3.6.0"
  }
 },
 "nbformat": 4,
 "nbformat_minor": 2
}
